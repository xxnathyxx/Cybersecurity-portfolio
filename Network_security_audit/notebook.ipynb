{
 "cells": [
  {
   "cell_type": "markdown",
   "id": "3242d103",
   "metadata": {},
   "source": [
    "📌 **Proyecto: Auditoría de Seguridad en Redes**\n",
    "\n",
    "🎯 **Objetivo**\n",
    "\n",
    "Realizar una auditoría de seguridad en una red simulada para identificar vulnerabilidades, evaluar configuraciones de seguridad y proponer medidas de mitigación.\n",
    "\n",
    "El propósito es mostrar competencias en:\n",
    "\n",
    "- Reconocimiento y mapeo de red 🕵️\n",
    "- Análisis de vulnerabilidades 🛡️\n",
    "- Documentación y reporte técnico 📑\n",
    "\n",
    "\n",
    "\n",
    "🛠️ **Herramientas utilizadas**\n",
    "\n",
    "- Nmap → Descubrimiento y escaneo de red.\n",
    "- Wireshark → Captura y análisis de tráfico.\n",
    "- OpenVAS / Nessus → Escaneo de vulnerabilidades.\n",
    "- Metasploit → Verificación de explotación (solo en entorno controlado).\n",
    "- VirtualBox / Docker → Montaje de laboratorio seguro.\n",
    "\n",
    "\n",
    "\n",
    "📂 **Estructura del repositorio**\n",
    "\n",
    "Network_security_audit/\n",
    "\n",
    "│── README.md\n",
    "\n",
    "**│── /docs**\n",
    "\n",
    "│    ├── informe_auditoria.pdf      # Reporte final\n",
    "\n",
    "│    ├── checklist_auditoria.md     # Checklist usado\n",
    "\n",
    "\n",
    "**│── /scans**\n",
    "\n",
    "│    ├── nmap_scan.txt              # Resultados Nmap\n",
    "\n",
    "│    ├── vulnerabilidades.csv       # Export del escáner\n",
    "\n",
    "\n",
    "**│── /scripts**\n",
    "\n",
    "│    ├── analisis_trafico.py        # Script en Python (ejemplo)\n",
    "\n",
    "│    ├── generar_reporte.sh         # Automatización de reportes\n",
    "\n",
    "\n",
    "**│── /lab**\n",
    "\n",
    "│    ├── docker-compose.yml         # Laboratorio de red simulado\n",
    "\n",
    "│    ├── config_router.txt          # Configuración de router simulado\n",
    "\n",
    "│    ├── traffic_sample.csv # Muestra de tráfico para análisis"
   ]
  },
  {
   "cell_type": "markdown",
   "id": "db9898ed",
   "metadata": {},
   "source": [
    "📝 **Detalles**\n",
    "\n",
    "# scans/vulnerabilidades.csv (filas de ejemplo)"
   ]
  },
  {
   "cell_type": "code",
   "execution_count": null,
   "id": "ec1f352a",
   "metadata": {},
   "outputs": [],
   "source": [
    "#pgsql\n",
    "host,port,service,vuln_id,severity,description,remediation\n",
    "192.168.56.10,22,ssh,CVE-2018-15919,Medium,Weak SSH algorithms enabled,Disable weak ciphers/KEX; upgrade OpenSSH\n",
    "192.168.56.10,80,http,CVE-2017-5638,High,Outdated Apache version with known RCE,Upgrade Apache to latest stable and apply vendor patches\n",
    "192.168.56.10,445,samba,CVE-2017-7494,Critical,Writable service leading to remote code execution (Samba),Apply Samba patch; restrict shares and permissions\n",
    "192.168.56.20,21,ftp,-,Medium,FTP without TLS — credentials may be transmitted in cleartext,Use SFTP/FTPS or disable FTP and enforce secure alternatives\n",
    "192.168.56.20,3306,mysql,-,Low,MySQL accessible from network — weak authentication policies possible,Bind MySQL to localhost or firewall the port; enforce strong passwords\n"
   ]
  },
  {
   "cell_type": "markdown",
   "id": "326b9048",
   "metadata": {},
   "source": [
    "# scans/nmap_scan.txt (fragmento)"
   ]
  },
  {
   "cell_type": "code",
   "execution_count": null,
   "id": "473116d4",
   "metadata": {},
   "outputs": [],
   "source": [
    "# Kotlin\n",
    "Nmap scan report for 192.168.56.10\n",
    "Host is up (0.00039s latency).\n",
    "Not shown: 996 closed ports\n",
    "PORT     STATE SERVICE VERSION\n",
    "22/tcp   open  ssh     OpenSSH 7.9p1 Debian 10+\n",
    "80/tcp   open  http    Apache httpd 2.4.38\n",
    "139/tcp  open  netbios-ssn Samba smbd 3.X\n",
    "445/tcp  open  microsoft-ds Samba smbd 4.7.6\n",
    "...\n"
   ]
  },
  {
   "cell_type": "markdown",
   "id": "c7b23fde",
   "metadata": {},
   "source": [
    "# scripts/analisis_trafico.py (resumen / cómo funciona)\n",
    "\n",
    "- Analiza lab/traffic_sample.csv.\n",
    "- Calcula top talkers (IP origen), distribución por protocolo y detecta heurísticas simples de eventos sospechosos (muchos ICMP, grandes paquetes TCP repetidos).\n",
    "\n",
    "Uso:"
   ]
  },
  {
   "cell_type": "code",
   "execution_count": null,
   "id": "d99c673d",
   "metadata": {},
   "outputs": [],
   "source": [
    "# bash\n",
    "python3 scripts/analisis_trafico.py --input lab/traffic_sample.csv\n"
   ]
  },
  {
   "cell_type": "markdown",
   "id": "694f2542",
   "metadata": {},
   "source": [
    "(fragmento del script ya incluido en el repo; es ejecutable)"
   ]
  },
  {
   "cell_type": "markdown",
   "id": "bc1ac751",
   "metadata": {},
   "source": [
    "# lab/docker-compose.yml **(esqueleto)**\n",
    "\n",
    "- Levanta servicios de laboratorio vulnerables para pruebas (ejemplos: Juice Shop, FTP, MySQL).\n",
    "- NO usar en producción. Ejecutar solo en entorno local/aislado."
   ]
  },
  {
   "cell_type": "markdown",
   "id": "0fda3d40",
   "metadata": {},
   "source": [
    "# docs/checklist_auditoria.md\n",
    "\n",
    "Listado de pasos: preparación (autorización), reconocimiento, escaneo de vulnerabilidades, captura y análisis de tráfico, pruebas de explotación en laboratorio, informe."
   ]
  },
  {
   "cell_type": "markdown",
   "id": "f64874ac",
   "metadata": {},
   "source": [
    "# docs/informe_auditoria.pdf\n",
    "\n",
    "Informe generado automáticamente con:\n",
    "\n",
    "- Título, introducción y alcance.\n",
    "- Tabla con las vulnerabilidades detectadas (misma que vulnerabilidades.csv).\n",
    "- Recomendaciones."
   ]
  },
  {
   "cell_type": "code",
   "execution_count": null,
   "id": "b1bb4066",
   "metadata": {},
   "outputs": [],
   "source": []
  },
  {
   "cell_type": "code",
   "execution_count": null,
   "id": "3e84d1b9",
   "metadata": {},
   "outputs": [],
   "source": []
  }
 ],
 "metadata": {
  "language_info": {
   "name": "python"
  }
 },
 "nbformat": 4,
 "nbformat_minor": 5
}
